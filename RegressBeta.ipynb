{
 "cells": [
  {
   "cell_type": "code",
   "execution_count": 1,
   "metadata": {},
   "outputs": [],
   "source": [
    "import numpy as np\n",
    "import pandas as pd\n",
    "import matplotlib.pyplot as plt\n",
    "from tqdm import tqdm\n",
    "import qgrid\n",
    "import statsmodels.api as sm\n",
    "import warnings\n",
    "warnings.filterwarnings('ignore')"
   ]
  },
  {
   "cell_type": "code",
   "execution_count": 2,
   "metadata": {},
   "outputs": [],
   "source": [
    "df = pd.read_csv('./SZA.csv', index_col=0)\n",
    "rf_df = pd.read_csv('./rf.csv', index_col=0)\n",
    "rm_df = pd.read_csv('./rm.csv', index_col=0)"
   ]
  },
  {
   "cell_type": "code",
   "execution_count": 3,
   "metadata": {},
   "outputs": [],
   "source": [
    "df = df.rename(mapper={'Trdmnt': 'Month', 'Mretwd': 'ri'}, axis=1)"
   ]
  },
  {
   "cell_type": "code",
   "execution_count": 4,
   "metadata": {},
   "outputs": [],
   "source": [
    "rm_df = rm_df.set_index('Month')"
   ]
  },
  {
   "cell_type": "code",
   "execution_count": 5,
   "metadata": {},
   "outputs": [],
   "source": [
    "rf_df = rf_df[~rf_df.index.duplicated(keep='first')]"
   ]
  },
  {
   "cell_type": "code",
   "execution_count": 6,
   "metadata": {},
   "outputs": [],
   "source": [
    "df['rf'] = 0\n",
    "df['rm'] = 0"
   ]
  },
  {
   "cell_type": "markdown",
   "metadata": {},
   "source": [
    "## Merge Dataframe\n",
    "\n",
    "First we need to merge the dataframes of stocks, risk-free rage and market return into a single dataframe, making it easier to process later"
   ]
  },
  {
   "cell_type": "code",
   "execution_count": 7,
   "metadata": {},
   "outputs": [],
   "source": [
    "from datetime import datetime"
   ]
  },
  {
   "cell_type": "code",
   "execution_count": 8,
   "metadata": {},
   "outputs": [],
   "source": [
    "def alter_df(row):\n",
    "    date = row['Month']\n",
    "    date = datetime.strptime(date, '%b-%y')\n",
    "    date = date.strftime('%Y-%m')\n",
    "    row['Month'] = date\n",
    "    row['rf'] = rf_df.loc[date]['rf']/100 ## divide risk-free rate by 100\n",
    "    row['rm'] = rm_df.loc[date]['Idxrtn']\n",
    "    return row\n",
    "\n",
    "df = df.apply(alter_df, axis=1)"
   ]
  },
  {
   "cell_type": "code",
   "execution_count": 9,
   "metadata": {},
   "outputs": [
    {
     "data": {
      "text/html": [
       "<div>\n",
       "<style scoped>\n",
       "    .dataframe tbody tr th:only-of-type {\n",
       "        vertical-align: middle;\n",
       "    }\n",
       "\n",
       "    .dataframe tbody tr th {\n",
       "        vertical-align: top;\n",
       "    }\n",
       "\n",
       "    .dataframe thead th {\n",
       "        text-align: right;\n",
       "    }\n",
       "</style>\n",
       "<table border=\"1\" class=\"dataframe\">\n",
       "  <thead>\n",
       "    <tr style=\"text-align: right;\">\n",
       "      <th></th>\n",
       "      <th>Month</th>\n",
       "      <th>ri</th>\n",
       "      <th>rf</th>\n",
       "      <th>rm</th>\n",
       "    </tr>\n",
       "    <tr>\n",
       "      <th>Stkcd</th>\n",
       "      <th></th>\n",
       "      <th></th>\n",
       "      <th></th>\n",
       "      <th></th>\n",
       "    </tr>\n",
       "  </thead>\n",
       "  <tbody>\n",
       "    <tr>\n",
       "      <th>600000</th>\n",
       "      <td>2008-01</td>\n",
       "      <td>-0.128788</td>\n",
       "      <td>0.003386</td>\n",
       "      <td>-0.134478</td>\n",
       "    </tr>\n",
       "    <tr>\n",
       "      <th>600000</th>\n",
       "      <td>2008-02</td>\n",
       "      <td>-0.084130</td>\n",
       "      <td>0.003386</td>\n",
       "      <td>0.011720</td>\n",
       "    </tr>\n",
       "    <tr>\n",
       "      <th>600000</th>\n",
       "      <td>2008-03</td>\n",
       "      <td>-0.159744</td>\n",
       "      <td>0.003386</td>\n",
       "      <td>-0.189113</td>\n",
       "    </tr>\n",
       "    <tr>\n",
       "      <th>600000</th>\n",
       "      <td>2008-04</td>\n",
       "      <td>0.194758</td>\n",
       "      <td>0.003386</td>\n",
       "      <td>0.044477</td>\n",
       "    </tr>\n",
       "    <tr>\n",
       "      <th>600000</th>\n",
       "      <td>2008-05</td>\n",
       "      <td>-0.132099</td>\n",
       "      <td>0.003386</td>\n",
       "      <td>-0.087845</td>\n",
       "    </tr>\n",
       "  </tbody>\n",
       "</table>\n",
       "</div>"
      ],
      "text/plain": [
       "          Month        ri        rf        rm\n",
       "Stkcd                                        \n",
       "600000  2008-01 -0.128788  0.003386 -0.134478\n",
       "600000  2008-02 -0.084130  0.003386  0.011720\n",
       "600000  2008-03 -0.159744  0.003386 -0.189113\n",
       "600000  2008-04  0.194758  0.003386  0.044477\n",
       "600000  2008-05 -0.132099  0.003386 -0.087845"
      ]
     },
     "execution_count": 9,
     "metadata": {},
     "output_type": "execute_result"
    }
   ],
   "source": [
    "df.head()"
   ]
  },
  {
   "cell_type": "code",
   "execution_count": 10,
   "metadata": {},
   "outputs": [],
   "source": [
    "Window = 60"
   ]
  },
  {
   "cell_type": "code",
   "execution_count": 11,
   "metadata": {},
   "outputs": [],
   "source": [
    "Months = np.unique(df['Month'])"
   ]
  },
  {
   "cell_type": "code",
   "execution_count": 12,
   "metadata": {},
   "outputs": [
    {
     "data": {
      "text/plain": [
       "132"
      ]
     },
     "execution_count": 12,
     "metadata": {},
     "output_type": "execute_result"
    }
   ],
   "source": [
    "Months.shape[0]"
   ]
  },
  {
   "cell_type": "code",
   "execution_count": 13,
   "metadata": {},
   "outputs": [],
   "source": [
    "Stocks = np.unique(df.index)"
   ]
  },
  {
   "cell_type": "code",
   "execution_count": 14,
   "metadata": {},
   "outputs": [
    {
     "data": {
      "text/plain": [
       "(1469,)"
      ]
     },
     "execution_count": 14,
     "metadata": {},
     "output_type": "execute_result"
    }
   ],
   "source": [
    "Stocks.shape"
   ]
  },
  {
   "cell_type": "markdown",
   "metadata": {},
   "source": [
    "## Drop Data\n",
    "\n",
    "For those stocks with less than 132 monthly return data, we simply drop them\n",
    "\n",
    "There were 1469 stocks, and only 295 remains after we dropped stocks without complete monthly return data"
   ]
  },
  {
   "cell_type": "code",
   "execution_count": 15,
   "metadata": {},
   "outputs": [
    {
     "name": "stderr",
     "output_type": "stream",
     "text": [
      "100%|██████████| 1469/1469 [00:06<00:00, 240.20it/s]\n"
     ]
    }
   ],
   "source": [
    "for stock in tqdm(Stocks):\n",
    "    if df.loc[stock].shape[0] != 132 or df.loc[stock].isnull().any()['ri']: ## missing data for some months\n",
    "        df = df.drop(stock, axis=0)"
   ]
  },
  {
   "cell_type": "code",
   "execution_count": 16,
   "metadata": {},
   "outputs": [],
   "source": [
    "Stocks = np.unique(df.index)"
   ]
  },
  {
   "cell_type": "code",
   "execution_count": 17,
   "metadata": {},
   "outputs": [
    {
     "data": {
      "text/plain": [
       "(293,)"
      ]
     },
     "execution_count": 17,
     "metadata": {},
     "output_type": "execute_result"
    }
   ],
   "source": [
    "Stocks.shape"
   ]
  },
  {
   "cell_type": "markdown",
   "metadata": {},
   "source": [
    "## Regress Beta\n",
    "\n",
    "According to CAPM model, we have $$ E(r_i)=r_f+\\beta_i(E(r_m)-r_f) $$\n",
    "\n",
    "To regress beta for each stock across a 5-year window, we regress:\n",
    "$$ r_{it}-r_{ft}=\\alpha_i+\\beta_i(r_{mt}-r_{ft})+\\epsilon_{it}$$\n",
    "\n",
    "where $i$ stands for each stock and $t$ stands for each month in this 5-year window"
   ]
  },
  {
   "cell_type": "code",
   "execution_count": 18,
   "metadata": {},
   "outputs": [],
   "source": [
    "df_beta = pd.DataFrame(columns=Stocks, index=Months)"
   ]
  },
  {
   "cell_type": "code",
   "execution_count": 19,
   "metadata": {},
   "outputs": [],
   "source": [
    "def RegressCAPM(stk_window):\n",
    "    y = stk_window['ri']-stk_window['rf']\n",
    "    X = stk_window['rm']-stk_window['rf']\n",
    "    X = sm.add_constant(X)\n",
    "    model = sm.OLS(y, X)\n",
    "    results = model.fit()\n",
    "    alpha = results.params.get_values()[0]\n",
    "    beta = results.params.get_values()[1]\n",
    "    return beta"
   ]
  },
  {
   "cell_type": "code",
   "execution_count": 20,
   "metadata": {
    "scrolled": true
   },
   "outputs": [
    {
     "name": "stderr",
     "output_type": "stream",
     "text": [
      "100%|██████████| 72/72 [01:23<00:00,  1.09s/it]\n"
     ]
    }
   ],
   "source": [
    "for i in tqdm(range(Months.shape[0]-60)):\n",
    "    date = Months[i+60]\n",
    "    df_rolling = df.loc[np.isin(df['Month'], Months[i:i+60])]\n",
    "    groupby = df_rolling.groupby('Stkcd')\n",
    "    current_stks = list(groupby.indices.keys())\n",
    "    for stk in current_stks:\n",
    "        stk_window = groupby.get_group(stk)\n",
    "        ## drop stocks with only one monthly data, (for example, 600786)\n",
    "        if stk_window.shape[0] == 1: \n",
    "            continue\n",
    "        stk_beta = RegressCAPM(stk_window)\n",
    "        df_beta.loc[date][stk] = stk_beta"
   ]
  },
  {
   "cell_type": "code",
   "execution_count": null,
   "metadata": {},
   "outputs": [],
   "source": [
    "df_beta.to_csv('beta.csv')"
   ]
  },
  {
   "cell_type": "code",
   "execution_count": null,
   "metadata": {},
   "outputs": [],
   "source": [
    "df.to_csv('merged_monthlyInfo.csv')"
   ]
  },
  {
   "cell_type": "code",
   "execution_count": null,
   "metadata": {},
   "outputs": [],
   "source": []
  }
 ],
 "metadata": {
  "kernelspec": {
   "display_name": "Python 3",
   "language": "python",
   "name": "python3"
  },
  "language_info": {
   "codemirror_mode": {
    "name": "ipython",
    "version": 3
   },
   "file_extension": ".py",
   "mimetype": "text/x-python",
   "name": "python",
   "nbconvert_exporter": "python",
   "pygments_lexer": "ipython3",
   "version": "3.7.4"
  },
  "toc": {
   "base_numbering": 1,
   "nav_menu": {},
   "number_sections": true,
   "sideBar": true,
   "skip_h1_title": false,
   "title_cell": "Table of Contents",
   "title_sidebar": "Contents",
   "toc_cell": false,
   "toc_position": {},
   "toc_section_display": true,
   "toc_window_display": false
  },
  "varInspector": {
   "cols": {
    "lenName": 16,
    "lenType": 16,
    "lenVar": 40
   },
   "kernels_config": {
    "python": {
     "delete_cmd_postfix": "",
     "delete_cmd_prefix": "del ",
     "library": "var_list.py",
     "varRefreshCmd": "print(var_dic_list())"
    },
    "r": {
     "delete_cmd_postfix": ") ",
     "delete_cmd_prefix": "rm(",
     "library": "var_list.r",
     "varRefreshCmd": "cat(var_dic_list()) "
    }
   },
   "oldHeight": 296,
   "position": {
    "height": "40px",
    "left": "1068px",
    "right": "20px",
    "top": "120px",
    "width": "350px"
   },
   "types_to_exclude": [
    "module",
    "function",
    "builtin_function_or_method",
    "instance",
    "_Feature"
   ],
   "varInspector_section_display": "none",
   "window_display": true
  }
 },
 "nbformat": 4,
 "nbformat_minor": 2
}
