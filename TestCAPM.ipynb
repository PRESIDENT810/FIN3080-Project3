{
 "cells": [
  {
   "cell_type": "code",
   "execution_count": 1,
   "metadata": {},
   "outputs": [],
   "source": [
    "import numpy as np\n",
    "import pandas as pd\n",
    "import matplotlib.pyplot as plt\n",
    "from tqdm import tqdm\n",
    "import qgrid\n",
    "import statsmodels.api as sm\n",
    "import warnings\n",
    "from scipy import stats\n",
    "warnings.filterwarnings('ignore')"
   ]
  },
  {
   "cell_type": "code",
   "execution_count": 2,
   "metadata": {},
   "outputs": [],
   "source": [
    "df = pd.read_csv('./merged_monthlyInfo.csv', index_col=0)\n",
    "df_beta = pd.read_csv('./beta.csv', index_col=0)"
   ]
  },
  {
   "cell_type": "code",
   "execution_count": 3,
   "metadata": {},
   "outputs": [],
   "source": [
    "df_beta = df_beta.dropna()"
   ]
  },
  {
   "cell_type": "markdown",
   "metadata": {},
   "source": [
    "## Find Stock with Min/Max Beta\n",
    "\n",
    "Now we have the beta for each stock in each rolling window, then we search for where the minimum / maximum beta occurs"
   ]
  },
  {
   "cell_type": "code",
   "execution_count": 4,
   "metadata": {},
   "outputs": [],
   "source": [
    "min_betas = df_beta.describe().loc['min']\n",
    "max_betas = df_beta.describe().loc['max']"
   ]
  },
  {
   "cell_type": "code",
   "execution_count": 5,
   "metadata": {},
   "outputs": [
    {
     "data": {
      "text/plain": [
       "-0.0638275048724565"
      ]
     },
     "execution_count": 5,
     "metadata": {},
     "output_type": "execute_result"
    },
    {
     "data": {
      "text/plain": [
       "'600594'"
      ]
     },
     "execution_count": 5,
     "metadata": {},
     "output_type": "execute_result"
    },
    {
     "data": {
      "text/plain": [
       "'2015-01'"
      ]
     },
     "execution_count": 5,
     "metadata": {},
     "output_type": "execute_result"
    }
   ],
   "source": [
    "min_betas.min()\n",
    "min_betas.argmin()\n",
    "df_beta[min_betas.argmin()].argmin()"
   ]
  },
  {
   "cell_type": "code",
   "execution_count": 6,
   "metadata": {},
   "outputs": [
    {
     "data": {
      "text/plain": [
       "2.1775508197632782"
      ]
     },
     "execution_count": 6,
     "metadata": {},
     "output_type": "execute_result"
    },
    {
     "data": {
      "text/plain": [
       "'600030'"
      ]
     },
     "execution_count": 6,
     "metadata": {},
     "output_type": "execute_result"
    },
    {
     "data": {
      "text/plain": [
       "'2018-09'"
      ]
     },
     "execution_count": 6,
     "metadata": {},
     "output_type": "execute_result"
    }
   ],
   "source": [
    "max_betas.max()\n",
    "max_betas.argmax()\n",
    "df_beta[max_betas.argmin()].argmax()"
   ]
  },
  {
   "cell_type": "markdown",
   "metadata": {},
   "source": [
    "Type | Stock | Date | Beta\n",
    "--|--|--|--\n",
    "Min Beta| 600594 | 2015-01 | -0.0638275048724565\n",
    "Max Beta| 600030 | 2018-09 | 2.1775508197632782"
   ]
  },
  {
   "cell_type": "markdown",
   "metadata": {},
   "source": [
    "## Test CAPM\n",
    "\n",
    "We obtained betas of each stocks, in the format of:"
   ]
  },
  {
   "cell_type": "code",
   "execution_count": 7,
   "metadata": {},
   "outputs": [
    {
     "data": {
      "text/html": [
       "<div>\n",
       "<style scoped>\n",
       "    .dataframe tbody tr th:only-of-type {\n",
       "        vertical-align: middle;\n",
       "    }\n",
       "\n",
       "    .dataframe tbody tr th {\n",
       "        vertical-align: top;\n",
       "    }\n",
       "\n",
       "    .dataframe thead th {\n",
       "        text-align: right;\n",
       "    }\n",
       "</style>\n",
       "<table border=\"1\" class=\"dataframe\">\n",
       "  <thead>\n",
       "    <tr style=\"text-align: right;\">\n",
       "      <th></th>\n",
       "      <th>600000</th>\n",
       "      <th>600004</th>\n",
       "      <th>600007</th>\n",
       "      <th>600008</th>\n",
       "      <th>600009</th>\n",
       "      <th>600011</th>\n",
       "      <th>600012</th>\n",
       "      <th>600015</th>\n",
       "      <th>600016</th>\n",
       "      <th>600017</th>\n",
       "      <th>...</th>\n",
       "      <th>601601</th>\n",
       "      <th>601628</th>\n",
       "      <th>601666</th>\n",
       "      <th>601699</th>\n",
       "      <th>601808</th>\n",
       "      <th>601857</th>\n",
       "      <th>601939</th>\n",
       "      <th>601988</th>\n",
       "      <th>601991</th>\n",
       "      <th>601998</th>\n",
       "    </tr>\n",
       "  </thead>\n",
       "  <tbody>\n",
       "    <tr>\n",
       "      <th>2013-01</th>\n",
       "      <td>1.107955</td>\n",
       "      <td>0.765357</td>\n",
       "      <td>0.814966</td>\n",
       "      <td>0.967411</td>\n",
       "      <td>0.861140</td>\n",
       "      <td>0.695644</td>\n",
       "      <td>0.717668</td>\n",
       "      <td>0.837064</td>\n",
       "      <td>0.899479</td>\n",
       "      <td>0.835758</td>\n",
       "      <td>...</td>\n",
       "      <td>1.169431</td>\n",
       "      <td>0.950304</td>\n",
       "      <td>1.259531</td>\n",
       "      <td>1.594732</td>\n",
       "      <td>0.922375</td>\n",
       "      <td>0.637780</td>\n",
       "      <td>0.770370</td>\n",
       "      <td>0.607325</td>\n",
       "      <td>0.742620</td>\n",
       "      <td>0.848265</td>\n",
       "    </tr>\n",
       "    <tr>\n",
       "      <th>2013-02</th>\n",
       "      <td>1.120298</td>\n",
       "      <td>0.765737</td>\n",
       "      <td>0.795829</td>\n",
       "      <td>0.948405</td>\n",
       "      <td>0.864654</td>\n",
       "      <td>0.655563</td>\n",
       "      <td>0.707989</td>\n",
       "      <td>0.873930</td>\n",
       "      <td>0.910414</td>\n",
       "      <td>0.861732</td>\n",
       "      <td>...</td>\n",
       "      <td>1.130272</td>\n",
       "      <td>0.892784</td>\n",
       "      <td>1.299521</td>\n",
       "      <td>1.602488</td>\n",
       "      <td>0.921121</td>\n",
       "      <td>0.616097</td>\n",
       "      <td>0.751736</td>\n",
       "      <td>0.588556</td>\n",
       "      <td>0.722824</td>\n",
       "      <td>0.857944</td>\n",
       "    </tr>\n",
       "    <tr>\n",
       "      <th>2013-03</th>\n",
       "      <td>1.123275</td>\n",
       "      <td>0.766405</td>\n",
       "      <td>0.795683</td>\n",
       "      <td>0.946535</td>\n",
       "      <td>0.865976</td>\n",
       "      <td>0.655074</td>\n",
       "      <td>0.708128</td>\n",
       "      <td>0.877575</td>\n",
       "      <td>0.907275</td>\n",
       "      <td>0.862143</td>\n",
       "      <td>...</td>\n",
       "      <td>1.132107</td>\n",
       "      <td>0.893426</td>\n",
       "      <td>1.302042</td>\n",
       "      <td>1.606058</td>\n",
       "      <td>0.919197</td>\n",
       "      <td>0.619001</td>\n",
       "      <td>0.752119</td>\n",
       "      <td>0.588117</td>\n",
       "      <td>0.722779</td>\n",
       "      <td>0.858126</td>\n",
       "    </tr>\n",
       "    <tr>\n",
       "      <th>2013-04</th>\n",
       "      <td>1.140774</td>\n",
       "      <td>0.739266</td>\n",
       "      <td>0.784726</td>\n",
       "      <td>0.883210</td>\n",
       "      <td>0.831195</td>\n",
       "      <td>0.599534</td>\n",
       "      <td>0.695682</td>\n",
       "      <td>0.872028</td>\n",
       "      <td>0.887897</td>\n",
       "      <td>0.858937</td>\n",
       "      <td>...</td>\n",
       "      <td>1.117016</td>\n",
       "      <td>0.859152</td>\n",
       "      <td>1.377841</td>\n",
       "      <td>1.669429</td>\n",
       "      <td>0.859517</td>\n",
       "      <td>0.577462</td>\n",
       "      <td>0.749900</td>\n",
       "      <td>0.592160</td>\n",
       "      <td>0.699333</td>\n",
       "      <td>0.840491</td>\n",
       "    </tr>\n",
       "    <tr>\n",
       "      <th>2013-05</th>\n",
       "      <td>1.129066</td>\n",
       "      <td>0.727859</td>\n",
       "      <td>0.792882</td>\n",
       "      <td>0.904688</td>\n",
       "      <td>0.842592</td>\n",
       "      <td>0.598478</td>\n",
       "      <td>0.695042</td>\n",
       "      <td>0.872416</td>\n",
       "      <td>0.886161</td>\n",
       "      <td>0.856913</td>\n",
       "      <td>...</td>\n",
       "      <td>1.109720</td>\n",
       "      <td>0.836099</td>\n",
       "      <td>1.380144</td>\n",
       "      <td>1.657459</td>\n",
       "      <td>0.848226</td>\n",
       "      <td>0.575106</td>\n",
       "      <td>0.731979</td>\n",
       "      <td>0.590250</td>\n",
       "      <td>0.694680</td>\n",
       "      <td>0.845269</td>\n",
       "    </tr>\n",
       "  </tbody>\n",
       "</table>\n",
       "<p>5 rows × 293 columns</p>\n",
       "</div>"
      ],
      "text/plain": [
       "           600000    600004    600007    600008    600009    600011    600012  \\\n",
       "2013-01  1.107955  0.765357  0.814966  0.967411  0.861140  0.695644  0.717668   \n",
       "2013-02  1.120298  0.765737  0.795829  0.948405  0.864654  0.655563  0.707989   \n",
       "2013-03  1.123275  0.766405  0.795683  0.946535  0.865976  0.655074  0.708128   \n",
       "2013-04  1.140774  0.739266  0.784726  0.883210  0.831195  0.599534  0.695682   \n",
       "2013-05  1.129066  0.727859  0.792882  0.904688  0.842592  0.598478  0.695042   \n",
       "\n",
       "           600015    600016    600017  ...    601601    601628    601666  \\\n",
       "2013-01  0.837064  0.899479  0.835758  ...  1.169431  0.950304  1.259531   \n",
       "2013-02  0.873930  0.910414  0.861732  ...  1.130272  0.892784  1.299521   \n",
       "2013-03  0.877575  0.907275  0.862143  ...  1.132107  0.893426  1.302042   \n",
       "2013-04  0.872028  0.887897  0.858937  ...  1.117016  0.859152  1.377841   \n",
       "2013-05  0.872416  0.886161  0.856913  ...  1.109720  0.836099  1.380144   \n",
       "\n",
       "           601699    601808    601857    601939    601988    601991    601998  \n",
       "2013-01  1.594732  0.922375  0.637780  0.770370  0.607325  0.742620  0.848265  \n",
       "2013-02  1.602488  0.921121  0.616097  0.751736  0.588556  0.722824  0.857944  \n",
       "2013-03  1.606058  0.919197  0.619001  0.752119  0.588117  0.722779  0.858126  \n",
       "2013-04  1.669429  0.859517  0.577462  0.749900  0.592160  0.699333  0.840491  \n",
       "2013-05  1.657459  0.848226  0.575106  0.731979  0.590250  0.694680  0.845269  \n",
       "\n",
       "[5 rows x 293 columns]"
      ]
     },
     "execution_count": 7,
     "metadata": {},
     "output_type": "execute_result"
    }
   ],
   "source": [
    "df_beta.head()"
   ]
  },
  {
   "cell_type": "markdown",
   "metadata": {},
   "source": [
    "And we use Fama-Macbeth Regression to test CAPM. \n",
    "\n",
    "First step is to do a Periodic Cross-Sectional Regression:\n",
    "\n",
    "$$ r_{it}-r_{ft} = \\delta_0+\\delta_1\\beta_{it} $$\n",
    "\n",
    "Then compute the mean and standard deviation of regressed $\\delta_0$, $\\delta_1$:\n",
    "\n",
    "$$ \\hat \\delta_0=\\frac{1}{T}\\sum_{t=1}^T \\hat \\delta_{0t}$$\n",
    "\n",
    "$$ \\hat \\delta_1=\\frac{1}{T}\\sum_{t=1}^T \\hat \\delta_{1t}$$\n",
    "\n",
    "Then we use t-test to test whether CAPM holds, that is to say, whether $$ \\hat \\delta_{0}\\ does\\ not\\ significantly\\ \\ne 0 $$"
   ]
  },
  {
   "cell_type": "code",
   "execution_count": 8,
   "metadata": {},
   "outputs": [],
   "source": [
    "Months = list(df_beta.index)"
   ]
  },
  {
   "cell_type": "code",
   "execution_count": 9,
   "metadata": {},
   "outputs": [],
   "source": [
    "delta0_hist = []\n",
    "delta1_hist = []\n",
    "\n",
    "for month in Months:\n",
    "    monthly_df = df[df['Month']==month]\n",
    "    excess_return = monthly_df['ri']-monthly_df['rf']\n",
    "    betas = df_beta.loc[month]\n",
    "    y = excess_return.values\n",
    "    X = betas.values\n",
    "    X = sm.add_constant(X)\n",
    "    model = sm.OLS(y, X)\n",
    "    results = model.fit()\n",
    "    delta0 = results.params[0]\n",
    "    delta1 = results.params[1]\n",
    "    delta0_hist.append(delta0)\n",
    "    delta1_hist.append(delta1)"
   ]
  },
  {
   "cell_type": "code",
   "execution_count": 10,
   "metadata": {},
   "outputs": [],
   "source": [
    "delta0_hist = np.array(delta0_hist)\n",
    "delta1_hist = np.array(delta1_hist)"
   ]
  },
  {
   "cell_type": "code",
   "execution_count": 11,
   "metadata": {},
   "outputs": [
    {
     "data": {
      "text/plain": [
       "0.015182963623538282"
      ]
     },
     "execution_count": 11,
     "metadata": {},
     "output_type": "execute_result"
    },
    {
     "data": {
      "text/plain": [
       "0.07706224576729304"
      ]
     },
     "execution_count": 11,
     "metadata": {},
     "output_type": "execute_result"
    }
   ],
   "source": [
    "delta0_hist.mean()\n",
    "delta0_hist.std()"
   ]
  },
  {
   "cell_type": "code",
   "execution_count": 12,
   "metadata": {},
   "outputs": [
    {
     "data": {
      "text/plain": [
       "-0.008369189075356878"
      ]
     },
     "execution_count": 12,
     "metadata": {},
     "output_type": "execute_result"
    },
    {
     "data": {
      "text/plain": [
       "0.04809331279986916"
      ]
     },
     "execution_count": 12,
     "metadata": {},
     "output_type": "execute_result"
    }
   ],
   "source": [
    "delta1_hist.mean()\n",
    "delta1_hist.std()"
   ]
  },
  {
   "cell_type": "markdown",
   "metadata": {},
   "source": [
    "The mean of $\\delta_{0}$ is 0.015182963623538282\n",
    "\n",
    "\n",
    "The standard deviation of $\\delta_{0}$ is \n",
    "0.07706224576729304\n",
    "\n",
    "\n",
    "The mean of $\\delta_{1}$ is -0.008369189075356878\n",
    "\n",
    "\n",
    "The standard deviation of $\\delta_{1}$ is 0.04809331279986916"
   ]
  },
  {
   "cell_type": "code",
   "execution_count": 13,
   "metadata": {},
   "outputs": [
    {
     "data": {
      "text/plain": [
       "Ttest_1sampResult(statistic=1.660137518947314, pvalue=0.10129746647870715)"
      ]
     },
     "execution_count": 13,
     "metadata": {},
     "output_type": "execute_result"
    }
   ],
   "source": [
    "stats.ttest_1samp(delta0_hist, 0)"
   ]
  },
  {
   "cell_type": "markdown",
   "metadata": {},
   "source": [
    "T test result of $\\delta_0$ (the constant term):\n",
    "\n",
    "t statistic | pvalue\n",
    "--|--\n",
    "1.660137518947314 | 0.10129746647870715\n",
    "\n",
    "The p-value is 10.13%, which means we fail to reject the null hypothesis (H0: $\\delta_{0}$ $\\ne$ 0) at 5% significance level. That is to say, $$ \\hat \\delta_{0}\\ does\\ not\\ significantly\\ \\ne 0 $$"
   ]
  },
  {
   "cell_type": "code",
   "execution_count": 20,
   "metadata": {},
   "outputs": [
    {
     "data": {
      "text/plain": [
       "Ttest_1sampResult(statistic=-1.466316968482576, pvalue=0.14697719583754815)"
      ]
     },
     "execution_count": 20,
     "metadata": {},
     "output_type": "execute_result"
    }
   ],
   "source": [
    "stats.ttest_1samp(delta1_hist, 0)"
   ]
  },
  {
   "cell_type": "markdown",
   "metadata": {},
   "source": [
    "T test result of $\\delta_1$ (the constant term):\n",
    "\n",
    "t statistic | pvalue\n",
    "--|--\n",
    "-1.466316968482576 | 0.14697719583754815\n",
    "\n",
    "The p-value is 14.70%, which means we fail to reject the null hypothesis (H0: $\\delta_{1}$ $\\ne$ 0) at 5% significance level. That is to say, $$ \\hat \\delta_{1}\\ does\\ not\\ significantly\\ \\ne 0 $$"
   ]
  },
  {
   "cell_type": "code",
   "execution_count": null,
   "metadata": {},
   "outputs": [],
   "source": []
  }
 ],
 "metadata": {
  "kernelspec": {
   "display_name": "Python 3",
   "language": "python",
   "name": "python3"
  },
  "language_info": {
   "codemirror_mode": {
    "name": "ipython",
    "version": 3
   },
   "file_extension": ".py",
   "mimetype": "text/x-python",
   "name": "python",
   "nbconvert_exporter": "python",
   "pygments_lexer": "ipython3",
   "version": "3.7.4"
  },
  "toc": {
   "base_numbering": 1,
   "nav_menu": {},
   "number_sections": true,
   "sideBar": true,
   "skip_h1_title": false,
   "title_cell": "Table of Contents",
   "title_sidebar": "Contents",
   "toc_cell": false,
   "toc_position": {},
   "toc_section_display": true,
   "toc_window_display": false
  },
  "varInspector": {
   "cols": {
    "lenName": 16,
    "lenType": 16,
    "lenVar": 40
   },
   "kernels_config": {
    "python": {
     "delete_cmd_postfix": "",
     "delete_cmd_prefix": "del ",
     "library": "var_list.py",
     "varRefreshCmd": "print(var_dic_list())"
    },
    "r": {
     "delete_cmd_postfix": ") ",
     "delete_cmd_prefix": "rm(",
     "library": "var_list.r",
     "varRefreshCmd": "cat(var_dic_list()) "
    }
   },
   "oldHeight": 317,
   "position": {
    "height": "40px",
    "left": "1070px",
    "right": "20px",
    "top": "121px",
    "width": "350px"
   },
   "types_to_exclude": [
    "module",
    "function",
    "builtin_function_or_method",
    "instance",
    "_Feature"
   ],
   "varInspector_section_display": "none",
   "window_display": true
  }
 },
 "nbformat": 4,
 "nbformat_minor": 2
}
